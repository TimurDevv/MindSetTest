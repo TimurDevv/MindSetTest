{
 "cells": [
  {
   "cell_type": "markdown",
   "metadata": {},
   "source": [
    "### Создаем функцию для создание и применение маски"
   ]
  },
  {
   "cell_type": "code",
   "execution_count": 24,
   "metadata": {},
   "outputs": [],
   "source": [
    "def main_function(masked_array, name_vaue):   \n",
    "    image = cv2.imread('image_1024_aligned_rgb.png')\n",
    "    \n",
    "    mask = np.zeros(image.shape[:2], dtype=np.uint8)\n",
    "   \n",
    "    points_reshaped = [masked_array.reshape((-1, 1, 2))]\n",
    "    \n",
    "    cv2.fillPoly(mask, points_reshaped, 255)\n",
    "    result = cv2.bitwise_and(image, image, mask=mask)\n",
    "  \n",
    "    contours, _ = cv2.findContours(mask, cv2.RETR_EXTERNAL, cv2.CHAIN_APPROX_SIMPLE)\n",
    "   \n",
    "    x, y, w, h = cv2.boundingRect(contours[0])\n",
    "    \n",
    "    cropped_image = result[y:y+h, x:x+w]\n",
    "   \n",
    "    b, g, r = cv2.split(cropped_image)\n",
    "    alpha = np.where(mask[y:y+h, x:x+w] == 0, 0, 255).astype(np.uint8) \n",
    "    rgba = [b, g, r, alpha]\n",
    "    dst = cv2.merge(rgba)\n",
    "\n",
    "    file_path = os.path.join('wall_image', f'{name_vaue}.png')\n",
    "    \n",
    "    cv2.imwrite( file_path, dst)\n",
    "    cv2.waitKey(0)\n",
    "    cv2.destroyAllWindows()\n",
    "  "
   ]
  },
  {
   "cell_type": "markdown",
   "metadata": {},
   "source": [
    "### Загружаем данные, и обрабатываем массив фильтром гаууса, для более ровных границ маски"
   ]
  },
  {
   "cell_type": "code",
   "execution_count": 25,
   "metadata": {},
   "outputs": [],
   "source": [
    "import numpy as np\n",
    "import os\n",
    "import cv2 \n",
    "from scipy.ndimage import gaussian_filter\n",
    "\n",
    "zero_array = np.zeros((1, 1024))\n",
    "filled_array = np.full((1, 1024), 512)\n",
    "\n",
    "\n",
    "\n",
    "vc = np.load(\"v_corners.npy\")\n",
    "vc_T = vc.T\n",
    "data = np.load(\"h_corners.npy\")\n",
    "\n",
    "sigma = 2  \n",
    "hc = gaussian_filter(data, sigma=[0, sigma]) \n",
    "\n"
   ]
  },
  {
   "cell_type": "markdown",
   "metadata": {},
   "source": [
    "### Обрабатываем входные массивы для создание маски"
   ]
  },
  {
   "cell_type": "code",
   "execution_count": 26,
   "metadata": {},
   "outputs": [],
   "source": [
    "import numpy as np\n",
    "import os\n",
    "import cv2 \n",
    "from scipy.ndimage import gaussian_filter\n",
    "\n",
    "hc = smoothed_data\n",
    "\n",
    "x_range = np.arange(0, 1024, dtype= int)\n",
    "\n",
    "result_fer = np.vstack([x_range, hc[0]])\n",
    "result_sec = np.vstack([x_range, hc[1]])\n",
    "result_y_down = np.vstack([x_range, zero_array])\n",
    "result_y_down = np.vstack([x_range, filled_array])\n",
    "\n",
    "result_fer = result_fer.T\n",
    "result_sec = result_sec.T\n",
    "rresult_sec_rever = np.flip(result_sec, axis=0)\n",
    "result_all = np.vstack([result_fer, rresult_sec_rever])\n",
    "\n",
    "\n",
    "vc_index = np.unique(vc_T[0].astype(np.int32))\n",
    "\n",
    "\n",
    "vc_index_zero = np.insert(vc_index, 0, 0)\n",
    "vc_index_full_size = np.append(vc_index_zero,1024)\n",
    "\n",
    "vc_index_full_size\n",
    "wall_name = np.array(['door_1','wall_1','wall_window','wall_2','wall_3','wall_4','door_2'], dtype=object)\n",
    "floor = np.array('floor', dtype=object)\n",
    "ceiling = np.array('ceiling', dtype=object)\n"
   ]
  },
  {
   "cell_type": "markdown",
   "metadata": {},
   "source": [
    "### Создаем массив для маски, после чего передаем данные в функцию"
   ]
  },
  {
   "cell_type": "code",
   "execution_count": 27,
   "metadata": {},
   "outputs": [],
   "source": [
    "\n",
    "zero_array = np.zeros((1, 1024))\n",
    "filled_array = np.full((1, 1024), 512)\n",
    "result_up = np.vstack([x_range,zero_array])\n",
    "result_down = np.vstack([x_range, filled_array])\n",
    "\n",
    "result_up_T = result_up.T\n",
    "result_down_T = result_down.T\n",
    "\n",
    "result_fer_rever = np.flip(result_fer, axis=0)\n",
    "\n",
    "result_up_mask = np.vstack([result_up_T,result_fer_rever])\n",
    "result_up_down = np.vstack([result_down_T,rresult_sec_rever])\n",
    "\n",
    "result_all_int_up = result_up_mask.astype(int)\n",
    "result_all_int_down = result_up_down.astype(int)\n",
    "\n",
    "\n",
    "celling_func = main_function(result_all_int_up,ceiling)  \n",
    "floor_function = main_function(result_all_int_down ,floor)"
   ]
  },
  {
   "cell_type": "markdown",
   "metadata": {},
   "source": [
    "### Цикл для создания отдельных фрагментов стен"
   ]
  },
  {
   "cell_type": "code",
   "execution_count": 28,
   "metadata": {},
   "outputs": [],
   "source": [
    "\n",
    "for i in range(0,len(vc_index_full_size)-1):\n",
    "\n",
    "\n",
    "    slise_mask = hc[:, vc_index_full_size[i]:vc_index_full_size[i+1]]\n",
    "    x_range_mask = np.arange(vc_index_full_size[i],vc_index_full_size[i+1], dtype= int)\n",
    "\n",
    "    result_fer = np.vstack([x_range_mask, slise_mask[0]])\n",
    "    result_sec = np.vstack([x_range_mask, slise_mask[1]])\n",
    "    result_fer = result_fer.T\n",
    "    result_sec = result_sec.T\n",
    "    rresult_sec_rever = np.flip(result_sec, axis=0)\n",
    "    result_all_slise = np.vstack([result_fer, rresult_sec_rever])\n",
    "\n",
    "    result_all_int = result_all.astype(int)\n",
    "    result_all_int = result_all_slise.astype(int)\n",
    "\n",
    "    slise_mask_int = slise_mask.astype(int)\n",
    "    wall_func = main_function(result_all_int, wall_name[i])"
   ]
  },
  {
   "cell_type": "markdown",
   "metadata": {},
   "source": [
    "### Функция изменения разрешения, с применение бикубической интерполяицией"
   ]
  },
  {
   "cell_type": "code",
   "execution_count": 29,
   "metadata": {},
   "outputs": [],
   "source": [
    "\n",
    "def function_superresolute(image_name, height, width):\n",
    "    \n",
    "    image_path = os.path.join('wall_image', f'{image_name}.png')\n",
    "    image = cv2.imread(image_path)\n",
    "  \n",
    "    image = cv2.imread(image_path, cv2.IMREAD_UNCHANGED)\n",
    "    resized_image = cv2.resize(image, (width, height), interpolation=cv2.INTER_CUBIC)\n",
    "    \n",
    " \n",
    "    if not os.path.exists('main_image'):\n",
    "        os.makedirs('main_image')\n",
    "    \n",
    "  \n",
    "    file_path = os.path.join('main_image', f'{image_name}_resized.png')\n",
    "    cv2.imwrite(file_path, resized_image)\n",
    "    print(f\"Image saved at {file_path}\")"
   ]
  },
  {
   "cell_type": "markdown",
   "metadata": {},
   "source": [
    "### Вызывам функцию и передаем данные, для изменения разрешения. В этом случае, каждый пиксель равен 1 см "
   ]
  },
  {
   "cell_type": "code",
   "execution_count": 30,
   "metadata": {},
   "outputs": [
    {
     "name": "stdout",
     "output_type": "stream",
     "text": [
      "Image saved at main_image\\door_1_resized.png\n",
      "Image saved at main_image\\wall_1_resized.png\n",
      "Image saved at main_image\\wall_window_resized.png\n",
      "Image saved at main_image\\wall_2_resized.png\n",
      "Image saved at main_image\\wall_3_resized.png\n",
      "Image saved at main_image\\wall_4_resized.png\n",
      "Image saved at main_image\\floor_resized.png\n",
      "Image saved at main_image\\ceiling_resized.png\n"
     ]
    }
   ],
   "source": [
    "door1 = function_superresolute('door_1', 250,165 )\n",
    "wall_1 = function_superresolute('wall_1', 250, 602)\n",
    "wall_window = function_superresolute('wall_window', 250, 205 )\n",
    "wall_2 = function_superresolute('wall_2', 250,164 )\n",
    "wall_3 = function_superresolute('wall_3', 250, 130)\n",
    "wall_4 = function_superresolute('wall_4', 250, 438)\n",
    "floor = function_superresolute('floor', 165, 602)\n",
    "ceiling = function_superresolute('ceiling', 165, 602)"
   ]
  },
  {
   "cell_type": "markdown",
   "metadata": {},
   "source": [
    "#анализ изображение через алгоримт сегментации Канни "
   ]
  },
  {
   "cell_type": "code",
   "execution_count": 21,
   "metadata": {},
   "outputs": [
    {
     "data": {
      "image/png": "[encoded data removed]",
      "text/plain": [
       "<Figure size 640x480 with 1 Axes>"
      ]
     },
     "metadata": {},
     "output_type": "display_data"
    }
   ],
   "source": [
    "import matplotlib.pyplot as plt\n",
    "\n",
    "image = cv2.imread('image_1024_aligned_rgb.png')\n",
    "image_gray = cv2.cvtColor(image, cv2.COLOR_BGR2GRAY)\n",
    "edges = cv2.Canny(image_gray, threshold1=100, threshold2=200)\n",
    "plt.imshow(edges, cmap='gray')\n",
    "plt.title('Canny Edge Detection')\n",
    "plt.show()\n"
   ]
  },
  {
   "cell_type": "code",
   "execution_count": 22,
   "metadata": {},
   "outputs": [
    {
     "name": "stdout",
     "output_type": "stream",
     "text": [
      "   wallx1  wallx2  wallx3  wallx4\n",
      "0       0       0       0    2050\n",
      "1       0       0    1640       0\n",
      "2    1640       0    1640     400\n",
      "3    1640     400    6020     400\n",
      "4    6020     400    6020    2050\n",
      "5       0    2050    6020    2050\n"
     ]
    }
   ],
   "source": [
    "import pandas as pd\n",
    "\n",
    "df = pd.read_json(\"test_object_lu.json\")\n",
    "df = df.drop(['room_id'], axis=1)\n",
    "\n",
    "df['walls'] = df['walls'].apply(lambda x: ','.join(map(str, x)))\n",
    "\n",
    "df[['wallx1', 'wallx2', 'wallx3', 'wallx4']] = df['walls'].str.split(',', expand=True).astype(int)\n",
    "df = df.drop(['walls'], axis=1)\n",
    "\n",
    "print(df)\n"
   ]
  },
  {
   "cell_type": "code",
   "execution_count": 23,
   "metadata": {},
   "outputs": [
    {
     "data": {
      "text/plain": [
       "array([['0', '0', '0', '2050'],\n",
       "       ['0', '0', '1640', '0'],\n",
       "       ['1640', '0', '1640', '400'],\n",
       "       ['1640', '400', '6020', '400'],\n",
       "       ['6020', '400', '6020', '2050'],\n",
       "       ['0', '2050', '6020', '2050']], dtype='<U4')"
      ]
     },
     "execution_count": 23,
     "metadata": {},
     "output_type": "execute_result"
    }
   ],
   "source": [
    "import numpy as np\n",
    "numpy_arr = df.to_numpy()\n",
    "\n",
    "arr_as_str = numpy_arr.astype(str)\n",
    "\n",
    "arr_without_spaces = np.char.replace(arr_as_str, ' ', '')\n",
    "numpy_array = arr_without_spaces.astype(str)\n",
    "numpy_array"
   ]
  }
 ],
 "metadata": {
  "kernelspec": {
   "display_name": "Python 3",
   "language": "python",
   "name": "python3"
  },
  "language_info": {
   "codemirror_mode": {
    "name": "ipython",
    "version": 3
   },
   "file_extension": ".py",
   "mimetype": "text/x-python",
   "name": "python",
   "nbconvert_exporter": "python",
   "pygments_lexer": "ipython3",
   "version": "3.11.7"
  }
 },
 "nbformat": 4,
 "nbformat_minor": 2
}
